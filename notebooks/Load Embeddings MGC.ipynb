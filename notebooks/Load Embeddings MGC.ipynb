{
 "cells": [
  {
   "cell_type": "code",
   "execution_count": 31,
   "id": "fd668e33",
   "metadata": {},
   "outputs": [
    {
     "name": "stdout",
     "output_type": "stream",
     "text": [
      "Requirement already satisfied: cassandra-driver in /Users/samuel.matioli/.pyenv/versions/3.9.4/lib/python3.9/site-packages (3.28.0)\n",
      "Collecting cassandra-driver\n",
      "  Downloading cassandra_driver-3.29.1-cp39-cp39-macosx_11_0_arm64.whl.metadata (5.9 kB)\n",
      "Requirement already satisfied: geomet<0.3,>=0.1 in /Users/samuel.matioli/.pyenv/versions/3.9.4/lib/python3.9/site-packages (from cassandra-driver) (0.2.1.post1)\n",
      "Requirement already satisfied: click in /Users/samuel.matioli/.pyenv/versions/3.9.4/lib/python3.9/site-packages (from geomet<0.3,>=0.1->cassandra-driver) (8.1.3)\n",
      "Requirement already satisfied: six in /Users/samuel.matioli/.pyenv/versions/3.9.4/lib/python3.9/site-packages (from geomet<0.3,>=0.1->cassandra-driver) (1.16.0)\n",
      "Downloading cassandra_driver-3.29.1-cp39-cp39-macosx_11_0_arm64.whl (3.2 MB)\n",
      "\u001b[2K   \u001b[90m━━━━━━━━━━━━━━━━━━━━━━━━━━━━━━━━━━━━━━━━\u001b[0m \u001b[32m3.2/3.2 MB\u001b[0m \u001b[31m984.2 kB/s\u001b[0m eta \u001b[36m0:00:00\u001b[0m00:01\u001b[0m00:01\u001b[0m\n",
      "\u001b[?25hInstalling collected packages: cassandra-driver\n",
      "  Attempting uninstall: cassandra-driver\n",
      "    Found existing installation: cassandra-driver 3.28.0\n",
      "    Uninstalling cassandra-driver-3.28.0:\n",
      "      Successfully uninstalled cassandra-driver-3.28.0\n",
      "Successfully installed cassandra-driver-3.29.1\n",
      "\n",
      "\u001b[1m[\u001b[0m\u001b[34;49mnotice\u001b[0m\u001b[1;39;49m]\u001b[0m\u001b[39;49m A new release of pip is available: \u001b[0m\u001b[31;49m23.3.1\u001b[0m\u001b[39;49m -> \u001b[0m\u001b[32;49m24.0\u001b[0m\n",
      "\u001b[1m[\u001b[0m\u001b[34;49mnotice\u001b[0m\u001b[1;39;49m]\u001b[0m\u001b[39;49m To update, run: \u001b[0m\u001b[32;49mpip install --upgrade pip\u001b[0m\n"
     ]
    }
   ],
   "source": [
    "!pip install cassandra-driver -U"
   ]
  },
  {
   "cell_type": "code",
   "execution_count": 6,
   "id": "2ed4d7d9",
   "metadata": {},
   "outputs": [
    {
     "data": {
      "text/plain": [
       "'astra_db'"
      ]
     },
     "execution_count": 6,
     "metadata": {},
     "output_type": "execute_result"
    }
   ],
   "source": [
    "import os\n",
    "from dotenv import load_dotenv\n",
    "from conn import getCQLSession\n",
    "from cassandra.cqlengine.query import BatchStatement\n",
    "from cassandra.query import BatchType\n",
    "import csv\n",
    "\n",
    "load_dotenv( override=True) \n",
    "os.environ[\"MODE\"]"
   ]
  },
  {
   "cell_type": "code",
   "execution_count": 7,
   "id": "f106819f",
   "metadata": {},
   "outputs": [
    {
     "name": "stdout",
     "output_type": "stream",
     "text": [
      "Initializing CQL Session\n",
      "Connected\n"
     ]
    }
   ],
   "source": [
    "from conn import getCQLSession\n",
    "session = getCQLSession(os.environ[\"MODE\"])"
   ]
  },
  {
   "cell_type": "code",
   "execution_count": 8,
   "id": "abb863d7",
   "metadata": {},
   "outputs": [
    {
     "ename": "InvalidRequest",
     "evalue": "Error from server: code=2200 [Invalid query] message=\"Index 'product_catalog_emb_vector_idx' already exists\"",
     "output_type": "error",
     "traceback": [
      "\u001b[0;31m---------------------------------------------------------------------------\u001b[0m",
      "\u001b[0;31mInvalidRequest\u001b[0m                            Traceback (most recent call last)",
      "\u001b[0;32m/var/folders/cb/kqbz377s0f5cnzwythftzhp40000gp/T/ipykernel_35981/46269388.py\u001b[0m in \u001b[0;36m<cell line: 8>\u001b[0;34m()\u001b[0m\n\u001b[1;32m      6\u001b[0m                     emb VECTOR<FLOAT, 378>)\"\"\")\n\u001b[1;32m      7\u001b[0m \u001b[0;34m\u001b[0m\u001b[0m\n\u001b[0;32m----> 8\u001b[0;31m session.execute(\"\"\"CREATE CUSTOM INDEX product_catalog_emb_vector_idx\n\u001b[0m\u001b[1;32m      9\u001b[0m     \u001b[0mON\u001b[0m \u001b[0mdefault_keyspace\u001b[0m\u001b[0;34m.\u001b[0m\u001b[0mproduct_catalog_emb\u001b[0m \u001b[0;34m(\u001b[0m\u001b[0memb\u001b[0m\u001b[0;34m)\u001b[0m\u001b[0;34m\u001b[0m\u001b[0;34m\u001b[0m\u001b[0m\n\u001b[1;32m     10\u001b[0m     \u001b[0mUSING\u001b[0m \u001b[0;34m'StorageAttachedIndex'\u001b[0m\u001b[0;34m\u001b[0m\u001b[0;34m\u001b[0m\u001b[0m\n",
      "\u001b[0;32m~/.pyenv/versions/3.9.4/lib/python3.9/site-packages/cassandra/cluster.cpython-39-darwin.so\u001b[0m in \u001b[0;36mcassandra.cluster.Session.execute\u001b[0;34m()\u001b[0m\n",
      "\u001b[0;32m~/.pyenv/versions/3.9.4/lib/python3.9/site-packages/cassandra/cluster.cpython-39-darwin.so\u001b[0m in \u001b[0;36mcassandra.cluster.ResponseFuture.result\u001b[0;34m()\u001b[0m\n",
      "\u001b[0;31mInvalidRequest\u001b[0m: Error from server: code=2200 [Invalid query] message=\"Index 'product_catalog_emb_vector_idx' already exists\""
     ]
    }
   ],
   "source": [
    "table = \"default_keyspace.product_catalog_emb\"\n",
    "\n",
    "session.execute(\"\"\"CREATE TABLE IF NOT EXISTS default_keyspace.product_catalog_emb (\n",
    "                    id text PRIMARY KEY,\n",
    "                    title text,\n",
    "                    emb VECTOR<FLOAT, 384>)\"\"\")\n",
    "\n",
    "\n",
    "#First index model\n",
    "stmt = \"\"\"CREATE CUSTOM INDEX product_catalog_emb_vector_idx\n",
    "    ON default_keyspace.product_catalog_emb (emb)\n",
    "    USING 'StorageAttachedIndex'  \n",
    "    WITH OPTIONS = { 'similarity_function': 'COSINE'}\"\"\"\"\n",
    "\n",
    "#considering quantization for BERT\n",
    "stmt = \"\"\"CREATE CUSTOM INDEX product_catalog_emb_vector_idx\n",
    "    ON default_keyspace.product_catalog_emb (emb)\n",
    "    USING 'StorageAttachedIndex'  \n",
    "    WITH OPTIONS = { 'source_model': 'bert', 'similarity_function': 'COSINE'}\"\"\"\n",
    "    \n",
    "#considering quantization for BERT and with DOT_Product\n",
    "stmt = \"\"\"CREATE CUSTOM INDEX product_catalog_emb_vector_idx\n",
    "    ON default_keyspace.product_catalog_emb (emb)\n",
    "    USING 'StorageAttachedIndex'  \n",
    "    WITH OPTIONS = { 'source_model': 'bert', 'similarity_function': 'DOT_PRODUCT'};\"\"\"  \n",
    "\n",
    "session.execute(stmt)\n"
   ]
  },
  {
   "cell_type": "code",
   "execution_count": 15,
   "id": "496f32a0",
   "metadata": {},
   "outputs": [],
   "source": [
    "cmd_insert = f\"\"\"\n",
    "INSERT INTO {table} (id, title, emb)\n",
    "VALUES (:id, :title, :emb)\n",
    "\"\"\"\n",
    "\n",
    "prepared_stmt_insert = session.prepare(cmd_insert)"
   ]
  },
  {
   "cell_type": "code",
   "execution_count": 10,
   "id": "f537a655",
   "metadata": {},
   "outputs": [],
   "source": [
    "def read_csv(file_path):\n",
    "    data = []\n",
    "    with open(file_path, 'r') as file:\n",
    "        csv_reader = csv.DictReader(file)\n",
    "        for row in csv_reader:\n",
    "            data.append(row)\n",
    "    return data"
   ]
  },
  {
   "cell_type": "code",
   "execution_count": 39,
   "id": "17d1208a",
   "metadata": {},
   "outputs": [],
   "source": [
    "def save_data(data, batch_size = 20):\n",
    "    batch = BatchStatement(batch_type=BatchType.UNLOGGED)\n",
    "    count = 0\n",
    "    for row in data:\n",
    "        batch.add(prepared_stmt_insert, {\"id\": row['asin'], \"title\": row['title'], \"emb\": [float(x) for x in row['emb'].split(',')] })\n",
    "        count += 1\n",
    "        if count % batch_size == 0:\n",
    "            rs = session.execute(batch)\n",
    "            batch.clear()\n",
    "\n",
    "        if count % 1000 == 0 :\n",
    "            print(f\"\"\"{count} records inserted.\"\"\")\n",
    "    \n",
    "    \n",
    "    rs = session.execute(batch)\n",
    "    batch.clear()\n",
    "    \n",
    "    return count"
   ]
  },
  {
   "cell_type": "code",
   "execution_count": 12,
   "id": "c6a280bf",
   "metadata": {},
   "outputs": [],
   "source": [
    "data = read_csv(\"../data_embeddings/chunk_9999.csv\")"
   ]
  },
  {
   "cell_type": "code",
   "execution_count": 29,
   "id": "8408d17b",
   "metadata": {},
   "outputs": [
    {
     "data": {
      "text/plain": [
       "10000"
      ]
     },
     "execution_count": 29,
     "metadata": {},
     "output_type": "execute_result"
    }
   ],
   "source": [
    "len(data)"
   ]
  },
  {
   "cell_type": "code",
   "execution_count": 27,
   "id": "262bb8f8",
   "metadata": {},
   "outputs": [
    {
     "data": {
      "text/plain": [
       "384"
      ]
     },
     "execution_count": 27,
     "metadata": {},
     "output_type": "execute_result"
    }
   ],
   "source": [
    "len([float(x) for x in data[0]['emb'].split(',')])"
   ]
  },
  {
   "cell_type": "code",
   "execution_count": 53,
   "id": "64dd6aaa",
   "metadata": {},
   "outputs": [
    {
     "name": "stdout",
     "output_type": "stream",
     "text": [
      "1000 records inserted.\n",
      "2000 records inserted.\n",
      "3000 records inserted.\n",
      "4000 records inserted.\n",
      "5000 records inserted.\n",
      "6000 records inserted.\n",
      "7000 records inserted.\n",
      "8000 records inserted.\n",
      "9000 records inserted.\n",
      "10000 records inserted.\n",
      "77.29538297653198\n"
     ]
    }
   ],
   "source": [
    "import time\n",
    "start = time.time()\n",
    "save_data(data,100)\n",
    "end = time.time()\n",
    "print(end - start)"
   ]
  }
 ],
 "metadata": {
  "kernelspec": {
   "display_name": "Python 3 (ipykernel)",
   "language": "python",
   "name": "python3"
  },
  "language_info": {
   "codemirror_mode": {
    "name": "ipython",
    "version": 3
   },
   "file_extension": ".py",
   "mimetype": "text/x-python",
   "name": "python",
   "nbconvert_exporter": "python",
   "pygments_lexer": "ipython3",
   "version": "3.9.4"
  }
 },
 "nbformat": 4,
 "nbformat_minor": 5
}
