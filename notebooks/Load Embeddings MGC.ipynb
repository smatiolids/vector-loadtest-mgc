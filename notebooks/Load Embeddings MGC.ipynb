{
 "cells": [
  {
   "cell_type": "code",
   "execution_count": 31,
   "id": "fd668e33",
   "metadata": {},
   "outputs": [
    {
     "name": "stdout",
     "output_type": "stream",
     "text": [
      "Requirement already satisfied: cassandra-driver in /Users/samuel.matioli/.pyenv/versions/3.9.4/lib/python3.9/site-packages (3.28.0)\n",
      "Collecting cassandra-driver\n",
      "  Downloading cassandra_driver-3.29.1-cp39-cp39-macosx_11_0_arm64.whl.metadata (5.9 kB)\n",
      "Requirement already satisfied: geomet<0.3,>=0.1 in /Users/samuel.matioli/.pyenv/versions/3.9.4/lib/python3.9/site-packages (from cassandra-driver) (0.2.1.post1)\n",
      "Requirement already satisfied: click in /Users/samuel.matioli/.pyenv/versions/3.9.4/lib/python3.9/site-packages (from geomet<0.3,>=0.1->cassandra-driver) (8.1.3)\n",
      "Requirement already satisfied: six in /Users/samuel.matioli/.pyenv/versions/3.9.4/lib/python3.9/site-packages (from geomet<0.3,>=0.1->cassandra-driver) (1.16.0)\n",
      "Downloading cassandra_driver-3.29.1-cp39-cp39-macosx_11_0_arm64.whl (3.2 MB)\n",
      "\u001b[2K   \u001b[90m━━━━━━━━━━━━━━━━━━━━━━━━━━━━━━━━━━━━━━━━\u001b[0m \u001b[32m3.2/3.2 MB\u001b[0m \u001b[31m984.2 kB/s\u001b[0m eta \u001b[36m0:00:00\u001b[0m00:01\u001b[0m00:01\u001b[0m\n",
      "\u001b[?25hInstalling collected packages: cassandra-driver\n",
      "  Attempting uninstall: cassandra-driver\n",
      "    Found existing installation: cassandra-driver 3.28.0\n",
      "    Uninstalling cassandra-driver-3.28.0:\n",
      "      Successfully uninstalled cassandra-driver-3.28.0\n",
      "Successfully installed cassandra-driver-3.29.1\n",
      "\n",
      "\u001b[1m[\u001b[0m\u001b[34;49mnotice\u001b[0m\u001b[1;39;49m]\u001b[0m\u001b[39;49m A new release of pip is available: \u001b[0m\u001b[31;49m23.3.1\u001b[0m\u001b[39;49m -> \u001b[0m\u001b[32;49m24.0\u001b[0m\n",
      "\u001b[1m[\u001b[0m\u001b[34;49mnotice\u001b[0m\u001b[1;39;49m]\u001b[0m\u001b[39;49m To update, run: \u001b[0m\u001b[32;49mpip install --upgrade pip\u001b[0m\n"
     ]
    }
   ],
   "source": [
    "!pip install cassandra-driver -U"
   ]
  },
  {
   "cell_type": "code",
   "execution_count": 6,
   "id": "2ed4d7d9",
   "metadata": {},
   "outputs": [
    {
     "data": {
      "text/plain": [
       "'astra_db'"
      ]
     },
     "execution_count": 6,
     "metadata": {},
     "output_type": "execute_result"
    }
   ],
   "source": [
    "import os\n",
    "from dotenv import load_dotenv\n",
    "from conn import getCQLSession\n",
    "from cassandra.cqlengine.query import BatchStatement\n",
    "from cassandra.query import BatchType\n",
    "import csv\n",
    "\n",
    "load_dotenv( override=True) \n",
    "os.environ[\"MODE\"]"
   ]
  },
  {
   "cell_type": "code",
   "execution_count": 7,
   "id": "f106819f",
   "metadata": {},
   "outputs": [
    {
     "name": "stdout",
     "output_type": "stream",
     "text": [
      "Initializing CQL Session\n",
      "Connected\n"
     ]
    }
   ],
   "source": [
    "from conn import getCQLSession\n",
    "session = getCQLSession(os.environ[\"MODE\"])"
   ]
  },
  {
   "cell_type": "code",
   "execution_count": 8,
   "id": "abb863d7",
   "metadata": {},
   "outputs": [
    {
     "ename": "InvalidRequest",
     "evalue": "Error from server: code=2200 [Invalid query] message=\"Index 'product_catalog_emb_vector_idx' already exists\"",
     "output_type": "error",
     "traceback": [
      "\u001b[0;31m---------------------------------------------------------------------------\u001b[0m",
      "\u001b[0;31mInvalidRequest\u001b[0m                            Traceback (most recent call last)",
      "\u001b[0;32m/var/folders/cb/kqbz377s0f5cnzwythftzhp40000gp/T/ipykernel_35981/46269388.py\u001b[0m in \u001b[0;36m<cell line: 8>\u001b[0;34m()\u001b[0m\n\u001b[1;32m      6\u001b[0m                     emb VECTOR<FLOAT, 378>)\"\"\")\n\u001b[1;32m      7\u001b[0m \u001b[0;34m\u001b[0m\u001b[0m\n\u001b[0;32m----> 8\u001b[0;31m session.execute(\"\"\"CREATE CUSTOM INDEX product_catalog_emb_vector_idx\n\u001b[0m\u001b[1;32m      9\u001b[0m     \u001b[0mON\u001b[0m \u001b[0mdefault_keyspace\u001b[0m\u001b[0;34m.\u001b[0m\u001b[0mproduct_catalog_emb\u001b[0m \u001b[0;34m(\u001b[0m\u001b[0memb\u001b[0m\u001b[0;34m)\u001b[0m\u001b[0;34m\u001b[0m\u001b[0;34m\u001b[0m\u001b[0m\n\u001b[1;32m     10\u001b[0m     \u001b[0mUSING\u001b[0m \u001b[0;34m'StorageAttachedIndex'\u001b[0m\u001b[0;34m\u001b[0m\u001b[0;34m\u001b[0m\u001b[0m\n",
      "\u001b[0;32m~/.pyenv/versions/3.9.4/lib/python3.9/site-packages/cassandra/cluster.cpython-39-darwin.so\u001b[0m in \u001b[0;36mcassandra.cluster.Session.execute\u001b[0;34m()\u001b[0m\n",
      "\u001b[0;32m~/.pyenv/versions/3.9.4/lib/python3.9/site-packages/cassandra/cluster.cpython-39-darwin.so\u001b[0m in \u001b[0;36mcassandra.cluster.ResponseFuture.result\u001b[0;34m()\u001b[0m\n",
      "\u001b[0;31mInvalidRequest\u001b[0m: Error from server: code=2200 [Invalid query] message=\"Index 'product_catalog_emb_vector_idx' already exists\""
     ]
    }
   ],
   "source": [
    "table = \"default_keyspace.product_catalog_emb\"\n",
    "\n",
    "session.execute(\"\"\"CREATE TABLE IF NOT EXISTS default_keyspace.product_catalog_emb (\n",
    "                    id text PRIMARY KEY,\n",
    "                    title text,\n",
    "                    emb VECTOR<FLOAT, 384>)\"\"\")\n",
    "\n",
    "session.execute(\"\"\"CREATE CUSTOM INDEX product_catalog_emb_vector_idx\n",
    "    ON default_keyspace.product_catalog_emb (emb)\n",
    "    USING 'StorageAttachedIndex'  \n",
    "    WITH OPTIONS = { 'similarity_function': 'COSINE'};\"\"\")\n",
    "\n",
    "CREATE CUSTOM INDEX product_catalog_emb_vector_idx\n",
    "    ON default_keyspace.product_catalog_emb (emb)\n",
    "    USING 'StorageAttachedIndex'  \n",
    "    WITH OPTIONS = { 'similarity_function': 'COSINE'};\n",
    "\n",
    "CREATE CUSTOM INDEX product_catalog_emb_vector_idx\n",
    "    ON default_keyspace.product_catalog_emb (emb)\n",
    "    USING 'StorageAttachedIndex'  \n",
    "    WITH OPTIONS = { 'source_model': 'bert', 'similarity_function': 'COSINE'};\n",
    "    \n",
    "CREATE CUSTOM INDEX product_catalog_emb_vector_idx\n",
    "    ON default_keyspace.product_catalog_emb (emb)\n",
    "    USING 'StorageAttachedIndex'  \n",
    "    WITH OPTIONS = { 'source_model': 'bert', 'similarity_function': 'DOT_PRODUCT'};    "
   ]
  },
  {
   "cell_type": "code",
   "execution_count": 15,
   "id": "496f32a0",
   "metadata": {},
   "outputs": [],
   "source": [
    "cmd_insert = f\"\"\"\n",
    "INSERT INTO {table} (id, title, emb)\n",
    "VALUES (:id, :title, :emb)\n",
    "\"\"\"\n",
    "\n",
    "prepared_stmt_insert = session.prepare(cmd_insert)"
   ]
  },
  {
   "cell_type": "code",
   "execution_count": 10,
   "id": "f537a655",
   "metadata": {},
   "outputs": [],
   "source": [
    "def read_csv(file_path):\n",
    "    data = []\n",
    "    with open(file_path, 'r') as file:\n",
    "        csv_reader = csv.DictReader(file)\n",
    "        for row in csv_reader:\n",
    "            data.append(row)\n",
    "    return data"
   ]
  },
  {
   "cell_type": "code",
   "execution_count": 39,
   "id": "17d1208a",
   "metadata": {},
   "outputs": [],
   "source": [
    "def save_data(data, batch_size = 20):\n",
    "    batch = BatchStatement(batch_type=BatchType.UNLOGGED)\n",
    "    count = 0\n",
    "    for row in data:\n",
    "        batch.add(prepared_stmt_insert, {\"id\": row['asin'], \"title\": row['title'], \"emb\": [float(x) for x in row['emb'].split(',')] })\n",
    "        count += 1\n",
    "        if count % batch_size == 0:\n",
    "            rs = session.execute(batch)\n",
    "            batch.clear()\n",
    "\n",
    "        if count % 1000 == 0 :\n",
    "            print(f\"\"\"{count} records inserted.\"\"\")\n",
    "    \n",
    "    \n",
    "    rs = session.execute(batch)\n",
    "    batch.clear()\n",
    "    \n",
    "    return count"
   ]
  },
  {
   "cell_type": "code",
   "execution_count": 12,
   "id": "c6a280bf",
   "metadata": {},
   "outputs": [],
   "source": [
    "data = read_csv(\"../data_embeddings/chunk_9999.csv\")"
   ]
  },
  {
   "cell_type": "code",
   "execution_count": 29,
   "id": "8408d17b",
   "metadata": {},
   "outputs": [
    {
     "data": {
      "text/plain": [
       "10000"
      ]
     },
     "execution_count": 29,
     "metadata": {},
     "output_type": "execute_result"
    }
   ],
   "source": [
    "len(data)"
   ]
  },
  {
   "cell_type": "code",
   "execution_count": 27,
   "id": "262bb8f8",
   "metadata": {},
   "outputs": [
    {
     "data": {
      "text/plain": [
       "384"
      ]
     },
     "execution_count": 27,
     "metadata": {},
     "output_type": "execute_result"
    }
   ],
   "source": [
    "len([float(x) for x in data[0]['emb'].split(',')])"
   ]
  },
  {
   "cell_type": "code",
   "execution_count": 53,
   "id": "64dd6aaa",
   "metadata": {},
   "outputs": [
    {
     "name": "stdout",
     "output_type": "stream",
     "text": [
      "1000 records inserted.\n",
      "2000 records inserted.\n",
      "3000 records inserted.\n",
      "4000 records inserted.\n",
      "5000 records inserted.\n",
      "6000 records inserted.\n",
      "7000 records inserted.\n",
      "8000 records inserted.\n",
      "9000 records inserted.\n",
      "10000 records inserted.\n",
      "77.29538297653198\n"
     ]
    }
   ],
   "source": [
    "import time\n",
    "start = time.time()\n",
    "save_data(data,100)\n",
    "end = time.time()\n",
    "print(end - start)"
   ]
  },
  {
   "cell_type": "code",
   "execution_count": 55,
   "id": "fe494c90",
   "metadata": {},
   "outputs": [
    {
     "data": {
      "text/plain": [
       "129.37383340265157"
      ]
     },
     "execution_count": 55,
     "metadata": {},
     "output_type": "execute_result"
    }
   ],
   "source": [
    "len(data) / (end - start)"
   ]
  },
  {
   "cell_type": "markdown",
   "id": "fe79d5b5",
   "metadata": {},
   "source": [
    "# Product Search"
   ]
  },
  {
   "cell_type": "code",
   "execution_count": 57,
   "id": "d4ad41c9",
   "metadata": {},
   "outputs": [],
   "source": []
  },
  {
   "cell_type": "code",
   "execution_count": 58,
   "id": "17c3eda3",
   "metadata": {},
   "outputs": [],
   "source": [
    "queries = read_csv(\"../data_queries/chunk_9999.csv\")"
   ]
  },
  {
   "cell_type": "code",
   "execution_count": 59,
   "id": "44735f76",
   "metadata": {},
   "outputs": [
    {
     "data": {
      "text/plain": [
       "{'query': 'trellis for climbing plants',\n",
       " 'emb': '-0.048838172,-0.074733235,0.05481011,0.027351009,0.0006103623,0.026222544,-0.008075648,0.0138345035,-0.0077102883,0.03429652,0.009751471,-0.05707372,0.045820367,0.025954433,0.05993116,0.056023695,0.011463513,0.10386538,-0.048460662,-0.018406807,0.04325874,0.012444333,-0.030416965,0.0017623174,-0.0153835965,0.011319403,-0.08990371,-0.005596035,-0.014435396,-0.11805417,0.011254357,0.035645973,0.01903037,0.006994528,-0.010007574,0.0066225445,-0.053514514,-0.0013567668,-0.034658812,0.017996404,0.013226245,0.0060074404,-0.07308237,-0.001998519,-0.055668496,-0.014055906,-0.027527863,-0.014177166,0.030189157,-0.041558646,-0.033268902,-0.050733875,-0.013386321,0.001383755,-0.020400908,0.0132677,0.036865756,0.059189137,0.010553816,0.02062063,0.08669635,-0.034591265,-0.11797153,0.0666018,0.02127234,0.0060160155,-0.045337945,0.027114328,0.08377424,0.07520063,0.06897177,0.015983732,0.007868892,0.006487555,-0.01724752,-0.024720518,-0.037986327,-0.0414074,-0.0108067235,0.010227361,-0.03599414,-0.034283224,-0.010973359,-0.0072187427,-0.034224715,0.012164697,-0.039207395,-0.019600257,0.04978294,0.06381893,0.05813156,-0.046257738,-0.07707738,-0.04638663,-0.013798985,-0.012863496,-0.04062852,-0.05177135,-0.058208264,0.33598763,-0.02684653,0.023466982,0.0795156,0.015213925,-0.015320619,-0.0304186,-0.032395672,-0.058783587,0.027332505,0.03935484,0.06136698,-0.07922823,0.02978005,0.044281926,-0.03133095,-0.04172368,-0.0115746,-0.020318907,-0.07386034,0.033442326,-0.027237697,0.042694893,0.048807148,-0.01940766,0.0028604097,-0.013978698,0.011491547,0.096431404,0.023329007,0.078084566,0.043093815,0.039053172,-0.0017491793,-0.0052192826,-0.017538296,0.010058543,0.054887645,-0.039612748,-0.010455933,0.013264135,-0.019877411,-0.04087868,0.077481404,-0.06272976,0.046336677,0.004148149,-0.009517887,0.078104734,0.0005968194,-0.048627608,-0.029691381,0.0004265106,0.058111507,-0.017268423,0.06682356,0.0070887427,-0.038885567,0.0015926255,-0.0070344484,0.009400069,-0.012795916,0.057117566,-0.02872055,0.06946214,0.0045935726,-0.15762328,0.0073016067,0.020365857,-0.018352466,0.010534534,0.03841917,-0.0055572637,0.0026372517,-0.0029207848,0.036314785,-0.015176539,-0.08806357,-0.060020443,0.04861037,0.019718036,0.006924131,0.027705459,0.046238992,0.023870107,0.04883721,0.03627829,0.017234085,-0.020401565,-0.016679235,-0.010618404,-0.09838663,-0.062492188,-0.045186486,0.028569361,-0.030276772,-0.041244548,-0.0006768301,0.039451484,0.0017748019,0.07460843,0.035264537,-0.015998758,-0.035524983,0.04823143,0.038522605,0.027851773,0.054449245,-0.021541806,0.020956729,0.04149508,0.020058258,-0.00040346937,0.08520482,-0.04042141,-0.0678162,0.045134973,-0.001977992,-0.0052522575,0.016654912,0.065863356,0.040898193,-0.063997395,-0.035318047,-0.30083558,-0.029640635,0.009248684,0.01745088,0.0037161366,0.012928168,0.021472964,-0.06703018,-0.03737212,-0.07322142,0.099335626,-0.033765823,0.025187524,0.004205936,0.014505898,0.023726862,0.0476764,0.019009367,-0.008727727,0.007539028,0.051456045,-0.009621862,0.011275915,-0.05255649,-0.084687896,-0.030520681,0.14545397,-0.04936939,-0.027601253,0.022810467,-0.008260854,-0.014377588,-0.015555393,-0.07088386,0.028241899,0.03960088,0.010559022,0.0110887885,-0.008389026,-0.017821236,0.022414539,0.04590311,-0.0063505685,-0.124003924,-0.005524759,-0.030164285,-0.011087801,0.052372664,0.0774503,-0.01145866,-0.020672638,-0.019753832,0.06583314,0.046166513,0.04546995,-0.0011998146,-0.042620506,0.03947748,0.008567315,-0.031620324,-0.017278234,-0.04439815,0.049543474,-0.038952455,0.020091746,0.0383859,-0.020687766,-0.016937114,0.017100792,-0.010232949,-0.0012527118,0.0013836591,0.026070327,-0.01677786,-0.04025207,0.041703388,-0.011260169,0.0016976874,0.021211352,-0.05569109,0.021602927,0.0010002643,0.016932907,0.01193309,-0.048224818,0.0025759651,-0.044600282,-0.042430393,0.06008988,-0.014097181,-0.011616724,-0.0022679388,-0.021499388,0.057959512,0.08326954,-0.016346306,-0.30935493,0.0037234589,0.032156833,-0.031786006,-0.022713205,0.009348353,0.04784505,0.018317496,-0.024242688,-0.001635683,-0.06294246,0.0012745333,-0.015202913,0.00968793,0.049526546,0.010154699,0.06720379,0.028226689,0.02702009,-0.020914989,0.023021163,-0.00435395,0.15610524,-0.015413831,-0.019895386,-0.0028462538,-0.01309158,-0.06582284,-0.008929376,0.025789358,-0.008861665,0.080483176,0.030887863,-0.007709254,0.012066666,0.07043118,0.02669291,-0.015701367,0.024391834,-0.035389163,-0.06232289,-0.008702592,-0.099514104,0.045505416,0.08598785,-0.09878922,0.00808347,-0.01368149,0.05833429,0.02043851,-0.060776427,0.0072030504,-0.014662137,0.01110794,0.011074871,0.005245752,-0.03414484,0.0014054271,-0.08621646,-0.06368033,0.018949473,-0.083622076,0.022635173,-0.029061299,0.07541282'}"
      ]
     },
     "execution_count": 59,
     "metadata": {},
     "output_type": "execute_result"
    }
   ],
   "source": [
    "queries[0]"
   ]
  },
  {
   "cell_type": "code",
   "execution_count": 106,
   "id": "833f3e7e",
   "metadata": {},
   "outputs": [],
   "source": [
    "import time\n",
    "\n",
    "def query_data(data, limit=\"10\"):\n",
    "    cmd_select = f\"\"\"\n",
    "        SELECT id, title FROM {table}\n",
    "        ORDER BY emb ANN OF :emb LIMIT {limit}\n",
    "    \"\"\"\n",
    "\n",
    "    prepared_stmt_select = session.prepare(cmd_select)\n",
    "    count = 0\n",
    "    start = time.time()\n",
    "    for row in data:\n",
    "        count += 1\n",
    "        prods = session.execute(prepared_stmt_select,{\"emb\": [float(x) for x in row['emb'].split(',')] })\n",
    "        if count % 10 == 0 :\n",
    "            end = time.time()\n",
    "            print(f\"\"\"{count} queries | Time: {end - start} | RPS: {(end - start) / 10} \"\"\")\n",
    "            start = time.time()\n",
    "    \n",
    "    print(f\"\"\"Finish: {count} queries.\"\"\")\n",
    "    return count"
   ]
  },
  {
   "cell_type": "code",
   "execution_count": 116,
   "id": "36e76e83",
   "metadata": {},
   "outputs": [
    {
     "name": "stdout",
     "output_type": "stream",
     "text": [
      "10 queries | Time: 14.927029132843018 | RPS: 1.4927029132843017 \n",
      "20 queries | Time: 11.99948000907898 | RPS: 1.199948000907898 \n",
      "30 queries | Time: 11.287514925003052 | RPS: 1.1287514925003053 \n",
      "40 queries | Time: 9.101099967956543 | RPS: 0.9101099967956543 \n",
      "50 queries | Time: 9.797742128372192 | RPS: 0.9797742128372192 \n",
      "60 queries | Time: 10.387034177780151 | RPS: 1.0387034177780152 \n"
     ]
    },
    {
     "ename": "KeyboardInterrupt",
     "evalue": "",
     "output_type": "error",
     "traceback": [
      "\u001b[0;31m---------------------------------------------------------------------------\u001b[0m",
      "\u001b[0;31mKeyboardInterrupt\u001b[0m                         Traceback (most recent call last)",
      "\u001b[0;32m/var/folders/cb/kqbz377s0f5cnzwythftzhp40000gp/T/ipykernel_35981/3609976987.py\u001b[0m in \u001b[0;36m<cell line: 2>\u001b[0;34m()\u001b[0m\n\u001b[1;32m      1\u001b[0m \u001b[0;31m# source_model=\"bert\", limit 10,\u001b[0m\u001b[0;34m\u001b[0m\u001b[0;34m\u001b[0m\u001b[0;34m\u001b[0m\u001b[0m\n\u001b[0;32m----> 2\u001b[0;31m \u001b[0mquery_data\u001b[0m\u001b[0;34m(\u001b[0m\u001b[0mqueries\u001b[0m\u001b[0;34m,\u001b[0m \u001b[0mlimit\u001b[0m\u001b[0;34m=\u001b[0m\u001b[0;34m\"1000\"\u001b[0m\u001b[0;34m)\u001b[0m\u001b[0;34m\u001b[0m\u001b[0;34m\u001b[0m\u001b[0m\n\u001b[0m",
      "\u001b[0;32m/var/folders/cb/kqbz377s0f5cnzwythftzhp40000gp/T/ipykernel_35981/229660778.py\u001b[0m in \u001b[0;36mquery_data\u001b[0;34m(data, limit)\u001b[0m\n\u001b[1;32m     12\u001b[0m     \u001b[0;32mfor\u001b[0m \u001b[0mrow\u001b[0m \u001b[0;32min\u001b[0m \u001b[0mdata\u001b[0m\u001b[0;34m:\u001b[0m\u001b[0;34m\u001b[0m\u001b[0;34m\u001b[0m\u001b[0m\n\u001b[1;32m     13\u001b[0m         \u001b[0mcount\u001b[0m \u001b[0;34m+=\u001b[0m \u001b[0;36m1\u001b[0m\u001b[0;34m\u001b[0m\u001b[0;34m\u001b[0m\u001b[0m\n\u001b[0;32m---> 14\u001b[0;31m         \u001b[0mprods\u001b[0m \u001b[0;34m=\u001b[0m \u001b[0msession\u001b[0m\u001b[0;34m.\u001b[0m\u001b[0mexecute\u001b[0m\u001b[0;34m(\u001b[0m\u001b[0mprepared_stmt_select\u001b[0m\u001b[0;34m,\u001b[0m\u001b[0;34m{\u001b[0m\u001b[0;34m\"emb\"\u001b[0m\u001b[0;34m:\u001b[0m \u001b[0;34m[\u001b[0m\u001b[0mfloat\u001b[0m\u001b[0;34m(\u001b[0m\u001b[0mx\u001b[0m\u001b[0;34m)\u001b[0m \u001b[0;32mfor\u001b[0m \u001b[0mx\u001b[0m \u001b[0;32min\u001b[0m \u001b[0mrow\u001b[0m\u001b[0;34m[\u001b[0m\u001b[0;34m'emb'\u001b[0m\u001b[0;34m]\u001b[0m\u001b[0;34m.\u001b[0m\u001b[0msplit\u001b[0m\u001b[0;34m(\u001b[0m\u001b[0;34m','\u001b[0m\u001b[0;34m)\u001b[0m\u001b[0;34m]\u001b[0m \u001b[0;34m}\u001b[0m\u001b[0;34m)\u001b[0m\u001b[0;34m\u001b[0m\u001b[0;34m\u001b[0m\u001b[0m\n\u001b[0m\u001b[1;32m     15\u001b[0m         \u001b[0;32mif\u001b[0m \u001b[0mcount\u001b[0m \u001b[0;34m%\u001b[0m \u001b[0;36m10\u001b[0m \u001b[0;34m==\u001b[0m \u001b[0;36m0\u001b[0m \u001b[0;34m:\u001b[0m\u001b[0;34m\u001b[0m\u001b[0;34m\u001b[0m\u001b[0m\n\u001b[1;32m     16\u001b[0m             \u001b[0mend\u001b[0m \u001b[0;34m=\u001b[0m \u001b[0mtime\u001b[0m\u001b[0;34m.\u001b[0m\u001b[0mtime\u001b[0m\u001b[0;34m(\u001b[0m\u001b[0;34m)\u001b[0m\u001b[0;34m\u001b[0m\u001b[0;34m\u001b[0m\u001b[0m\n",
      "\u001b[0;32m~/.pyenv/versions/3.9.4/lib/python3.9/site-packages/cassandra/cluster.cpython-39-darwin.so\u001b[0m in \u001b[0;36mcassandra.cluster.Session.execute\u001b[0;34m()\u001b[0m\n",
      "\u001b[0;32m~/.pyenv/versions/3.9.4/lib/python3.9/site-packages/cassandra/cluster.cpython-39-darwin.so\u001b[0m in \u001b[0;36mcassandra.cluster.ResponseFuture.result\u001b[0;34m()\u001b[0m\n",
      "\u001b[0;32m~/.pyenv/versions/3.9.4/lib/python3.9/threading.py\u001b[0m in \u001b[0;36mwait\u001b[0;34m(self, timeout)\u001b[0m\n\u001b[1;32m    572\u001b[0m             \u001b[0msignaled\u001b[0m \u001b[0;34m=\u001b[0m \u001b[0mself\u001b[0m\u001b[0;34m.\u001b[0m\u001b[0m_flag\u001b[0m\u001b[0;34m\u001b[0m\u001b[0;34m\u001b[0m\u001b[0m\n\u001b[1;32m    573\u001b[0m             \u001b[0;32mif\u001b[0m \u001b[0;32mnot\u001b[0m \u001b[0msignaled\u001b[0m\u001b[0;34m:\u001b[0m\u001b[0;34m\u001b[0m\u001b[0;34m\u001b[0m\u001b[0m\n\u001b[0;32m--> 574\u001b[0;31m                 \u001b[0msignaled\u001b[0m \u001b[0;34m=\u001b[0m \u001b[0mself\u001b[0m\u001b[0;34m.\u001b[0m\u001b[0m_cond\u001b[0m\u001b[0;34m.\u001b[0m\u001b[0mwait\u001b[0m\u001b[0;34m(\u001b[0m\u001b[0mtimeout\u001b[0m\u001b[0;34m)\u001b[0m\u001b[0;34m\u001b[0m\u001b[0;34m\u001b[0m\u001b[0m\n\u001b[0m\u001b[1;32m    575\u001b[0m             \u001b[0;32mreturn\u001b[0m \u001b[0msignaled\u001b[0m\u001b[0;34m\u001b[0m\u001b[0;34m\u001b[0m\u001b[0m\n\u001b[1;32m    576\u001b[0m \u001b[0;34m\u001b[0m\u001b[0m\n",
      "\u001b[0;32m~/.pyenv/versions/3.9.4/lib/python3.9/threading.py\u001b[0m in \u001b[0;36mwait\u001b[0;34m(self, timeout)\u001b[0m\n\u001b[1;32m    310\u001b[0m         \u001b[0;32mtry\u001b[0m\u001b[0;34m:\u001b[0m    \u001b[0;31m# restore state no matter what (e.g., KeyboardInterrupt)\u001b[0m\u001b[0;34m\u001b[0m\u001b[0;34m\u001b[0m\u001b[0m\n\u001b[1;32m    311\u001b[0m             \u001b[0;32mif\u001b[0m \u001b[0mtimeout\u001b[0m \u001b[0;32mis\u001b[0m \u001b[0;32mNone\u001b[0m\u001b[0;34m:\u001b[0m\u001b[0;34m\u001b[0m\u001b[0;34m\u001b[0m\u001b[0m\n\u001b[0;32m--> 312\u001b[0;31m                 \u001b[0mwaiter\u001b[0m\u001b[0;34m.\u001b[0m\u001b[0macquire\u001b[0m\u001b[0;34m(\u001b[0m\u001b[0;34m)\u001b[0m\u001b[0;34m\u001b[0m\u001b[0;34m\u001b[0m\u001b[0m\n\u001b[0m\u001b[1;32m    313\u001b[0m                 \u001b[0mgotit\u001b[0m \u001b[0;34m=\u001b[0m \u001b[0;32mTrue\u001b[0m\u001b[0;34m\u001b[0m\u001b[0;34m\u001b[0m\u001b[0m\n\u001b[1;32m    314\u001b[0m             \u001b[0;32melse\u001b[0m\u001b[0;34m:\u001b[0m\u001b[0;34m\u001b[0m\u001b[0;34m\u001b[0m\u001b[0m\n",
      "\u001b[0;31mKeyboardInterrupt\u001b[0m: "
     ]
    }
   ],
   "source": [
    "# source_model=\"bert\", limit 10, \n",
    "query_data(queries, limit=\"1000\")"
   ]
  },
  {
   "cell_type": "code",
   "execution_count": 115,
   "id": "01e52d5b",
   "metadata": {},
   "outputs": [
    {
     "name": "stdout",
     "output_type": "stream",
     "text": [
      "10 queries | Time: 2.7655727863311768 | RPS: 0.2765572786331177 \n",
      "20 queries | Time: 1.916346788406372 | RPS: 0.1916346788406372 \n",
      "30 queries | Time: 1.8731200695037842 | RPS: 0.18731200695037842 \n",
      "40 queries | Time: 1.8521580696105957 | RPS: 0.18521580696105958 \n",
      "50 queries | Time: 1.7207322120666504 | RPS: 0.17207322120666504 \n",
      "60 queries | Time: 1.708362102508545 | RPS: 0.1708362102508545 \n",
      "70 queries | Time: 1.6757018566131592 | RPS: 0.16757018566131593 \n",
      "80 queries | Time: 1.687256097793579 | RPS: 0.1687256097793579 \n",
      "90 queries | Time: 1.754384994506836 | RPS: 0.1754384994506836 \n",
      "100 queries | Time: 1.6938869953155518 | RPS: 0.16938869953155516 \n",
      "110 queries | Time: 1.7073028087615967 | RPS: 0.17073028087615966 \n"
     ]
    },
    {
     "ename": "KeyboardInterrupt",
     "evalue": "",
     "output_type": "error",
     "traceback": [
      "\u001b[0;31m---------------------------------------------------------------------------\u001b[0m",
      "\u001b[0;31mKeyboardInterrupt\u001b[0m                         Traceback (most recent call last)",
      "\u001b[0;32m/var/folders/cb/kqbz377s0f5cnzwythftzhp40000gp/T/ipykernel_35981/1760823238.py\u001b[0m in \u001b[0;36m<cell line: 2>\u001b[0;34m()\u001b[0m\n\u001b[1;32m      1\u001b[0m \u001b[0;31m# source_model=\"bert\", DOT_PRODUCT metric\u001b[0m\u001b[0;34m\u001b[0m\u001b[0;34m\u001b[0m\u001b[0;34m\u001b[0m\u001b[0m\n\u001b[0;32m----> 2\u001b[0;31m \u001b[0mquery_data\u001b[0m\u001b[0;34m(\u001b[0m\u001b[0mqueries\u001b[0m\u001b[0;34m,\u001b[0m \u001b[0mlimit\u001b[0m\u001b[0;34m=\u001b[0m\u001b[0;34m\"10\"\u001b[0m\u001b[0;34m)\u001b[0m\u001b[0;34m\u001b[0m\u001b[0;34m\u001b[0m\u001b[0m\n\u001b[0m",
      "\u001b[0;32m/var/folders/cb/kqbz377s0f5cnzwythftzhp40000gp/T/ipykernel_35981/229660778.py\u001b[0m in \u001b[0;36mquery_data\u001b[0;34m(data, limit)\u001b[0m\n\u001b[1;32m     12\u001b[0m     \u001b[0;32mfor\u001b[0m \u001b[0mrow\u001b[0m \u001b[0;32min\u001b[0m \u001b[0mdata\u001b[0m\u001b[0;34m:\u001b[0m\u001b[0;34m\u001b[0m\u001b[0;34m\u001b[0m\u001b[0m\n\u001b[1;32m     13\u001b[0m         \u001b[0mcount\u001b[0m \u001b[0;34m+=\u001b[0m \u001b[0;36m1\u001b[0m\u001b[0;34m\u001b[0m\u001b[0;34m\u001b[0m\u001b[0m\n\u001b[0;32m---> 14\u001b[0;31m         \u001b[0mprods\u001b[0m \u001b[0;34m=\u001b[0m \u001b[0msession\u001b[0m\u001b[0;34m.\u001b[0m\u001b[0mexecute\u001b[0m\u001b[0;34m(\u001b[0m\u001b[0mprepared_stmt_select\u001b[0m\u001b[0;34m,\u001b[0m\u001b[0;34m{\u001b[0m\u001b[0;34m\"emb\"\u001b[0m\u001b[0;34m:\u001b[0m \u001b[0;34m[\u001b[0m\u001b[0mfloat\u001b[0m\u001b[0;34m(\u001b[0m\u001b[0mx\u001b[0m\u001b[0;34m)\u001b[0m \u001b[0;32mfor\u001b[0m \u001b[0mx\u001b[0m \u001b[0;32min\u001b[0m \u001b[0mrow\u001b[0m\u001b[0;34m[\u001b[0m\u001b[0;34m'emb'\u001b[0m\u001b[0;34m]\u001b[0m\u001b[0;34m.\u001b[0m\u001b[0msplit\u001b[0m\u001b[0;34m(\u001b[0m\u001b[0;34m','\u001b[0m\u001b[0;34m)\u001b[0m\u001b[0;34m]\u001b[0m \u001b[0;34m}\u001b[0m\u001b[0;34m)\u001b[0m\u001b[0;34m\u001b[0m\u001b[0;34m\u001b[0m\u001b[0m\n\u001b[0m\u001b[1;32m     15\u001b[0m         \u001b[0;32mif\u001b[0m \u001b[0mcount\u001b[0m \u001b[0;34m%\u001b[0m \u001b[0;36m10\u001b[0m \u001b[0;34m==\u001b[0m \u001b[0;36m0\u001b[0m \u001b[0;34m:\u001b[0m\u001b[0;34m\u001b[0m\u001b[0;34m\u001b[0m\u001b[0m\n\u001b[1;32m     16\u001b[0m             \u001b[0mend\u001b[0m \u001b[0;34m=\u001b[0m \u001b[0mtime\u001b[0m\u001b[0;34m.\u001b[0m\u001b[0mtime\u001b[0m\u001b[0;34m(\u001b[0m\u001b[0;34m)\u001b[0m\u001b[0;34m\u001b[0m\u001b[0;34m\u001b[0m\u001b[0m\n",
      "\u001b[0;32m~/.pyenv/versions/3.9.4/lib/python3.9/site-packages/cassandra/cluster.cpython-39-darwin.so\u001b[0m in \u001b[0;36mcassandra.cluster.Session.execute\u001b[0;34m()\u001b[0m\n",
      "\u001b[0;32m~/.pyenv/versions/3.9.4/lib/python3.9/site-packages/cassandra/cluster.cpython-39-darwin.so\u001b[0m in \u001b[0;36mcassandra.cluster.ResponseFuture.result\u001b[0;34m()\u001b[0m\n",
      "\u001b[0;32m~/.pyenv/versions/3.9.4/lib/python3.9/threading.py\u001b[0m in \u001b[0;36mwait\u001b[0;34m(self, timeout)\u001b[0m\n\u001b[1;32m    572\u001b[0m             \u001b[0msignaled\u001b[0m \u001b[0;34m=\u001b[0m \u001b[0mself\u001b[0m\u001b[0;34m.\u001b[0m\u001b[0m_flag\u001b[0m\u001b[0;34m\u001b[0m\u001b[0;34m\u001b[0m\u001b[0m\n\u001b[1;32m    573\u001b[0m             \u001b[0;32mif\u001b[0m \u001b[0;32mnot\u001b[0m \u001b[0msignaled\u001b[0m\u001b[0;34m:\u001b[0m\u001b[0;34m\u001b[0m\u001b[0;34m\u001b[0m\u001b[0m\n\u001b[0;32m--> 574\u001b[0;31m                 \u001b[0msignaled\u001b[0m \u001b[0;34m=\u001b[0m \u001b[0mself\u001b[0m\u001b[0;34m.\u001b[0m\u001b[0m_cond\u001b[0m\u001b[0;34m.\u001b[0m\u001b[0mwait\u001b[0m\u001b[0;34m(\u001b[0m\u001b[0mtimeout\u001b[0m\u001b[0;34m)\u001b[0m\u001b[0;34m\u001b[0m\u001b[0;34m\u001b[0m\u001b[0m\n\u001b[0m\u001b[1;32m    575\u001b[0m             \u001b[0;32mreturn\u001b[0m \u001b[0msignaled\u001b[0m\u001b[0;34m\u001b[0m\u001b[0;34m\u001b[0m\u001b[0m\n\u001b[1;32m    576\u001b[0m \u001b[0;34m\u001b[0m\u001b[0m\n",
      "\u001b[0;32m~/.pyenv/versions/3.9.4/lib/python3.9/threading.py\u001b[0m in \u001b[0;36mwait\u001b[0;34m(self, timeout)\u001b[0m\n\u001b[1;32m    310\u001b[0m         \u001b[0;32mtry\u001b[0m\u001b[0;34m:\u001b[0m    \u001b[0;31m# restore state no matter what (e.g., KeyboardInterrupt)\u001b[0m\u001b[0;34m\u001b[0m\u001b[0;34m\u001b[0m\u001b[0m\n\u001b[1;32m    311\u001b[0m             \u001b[0;32mif\u001b[0m \u001b[0mtimeout\u001b[0m \u001b[0;32mis\u001b[0m \u001b[0;32mNone\u001b[0m\u001b[0;34m:\u001b[0m\u001b[0;34m\u001b[0m\u001b[0;34m\u001b[0m\u001b[0m\n\u001b[0;32m--> 312\u001b[0;31m                 \u001b[0mwaiter\u001b[0m\u001b[0;34m.\u001b[0m\u001b[0macquire\u001b[0m\u001b[0;34m(\u001b[0m\u001b[0;34m)\u001b[0m\u001b[0;34m\u001b[0m\u001b[0;34m\u001b[0m\u001b[0m\n\u001b[0m\u001b[1;32m    313\u001b[0m                 \u001b[0mgotit\u001b[0m \u001b[0;34m=\u001b[0m \u001b[0;32mTrue\u001b[0m\u001b[0;34m\u001b[0m\u001b[0;34m\u001b[0m\u001b[0m\n\u001b[1;32m    314\u001b[0m             \u001b[0;32melse\u001b[0m\u001b[0;34m:\u001b[0m\u001b[0;34m\u001b[0m\u001b[0;34m\u001b[0m\u001b[0m\n",
      "\u001b[0;31mKeyboardInterrupt\u001b[0m: "
     ]
    }
   ],
   "source": [
    "# source_model=\"bert\", DOT_PRODUCT metric \n",
    "query_data(queries, limit=\"10\")"
   ]
  },
  {
   "cell_type": "code",
   "execution_count": null,
   "id": "a411f61f",
   "metadata": {},
   "outputs": [],
   "source": [
    "cmd_select = f\"\"\"\n",
    "    SELECT id, title FROM {table}\n",
    "    ORDER BY emb ANN OF :emb LIMIT {limit}\n",
    "\"\"\"\n",
    "\n",
    "prepared_stmt_select = session.prepare(cmd_select)\n",
    "prods = session.execute(prepared_stmt_select,{\"emb\": [float(x) for x in data[0]['emb'].split(',')] })\n",
    "\n"
   ]
  },
  {
   "cell_type": "code",
   "execution_count": 72,
   "id": "5a33eacf",
   "metadata": {},
   "outputs": [
    {
     "name": "stdout",
     "output_type": "stream",
     "text": [
      "10 queries | Time: 10.855203628540039 | RPS: 1.085520362854004 \n",
      "20 queries | Time: 15.211241960525513 | RPS: 1.5211241960525512 \n",
      "30 queries | Time: 20.742655038833618 | RPS: 2.0742655038833617 \n",
      "40 queries | Time: 16.884514093399048 | RPS: 1.6884514093399048 \n",
      "50 queries | Time: 16.73455500602722 | RPS: 1.673455500602722 \n",
      "60 queries | Time: 17.008038759231567 | RPS: 1.7008038759231567 \n",
      "70 queries | Time: 13.05151104927063 | RPS: 1.305151104927063 \n",
      "80 queries | Time: 15.704714059829712 | RPS: 1.5704714059829712 \n",
      "90 queries | Time: 12.193763017654419 | RPS: 1.219376301765442 \n",
      "100 queries | Time: 12.8961181640625 | RPS: 1.28961181640625 \n",
      "110 queries | Time: 13.630681991577148 | RPS: 1.363068199157715 \n",
      "120 queries | Time: 14.791709899902344 | RPS: 1.4791709899902343 \n",
      "130 queries | Time: 12.616060018539429 | RPS: 1.2616060018539428 \n",
      "140 queries | Time: 11.029661893844604 | RPS: 1.1029661893844604 \n",
      "150 queries | Time: 10.504261016845703 | RPS: 1.0504261016845704 \n",
      "160 queries | Time: 9.078207015991211 | RPS: 0.9078207015991211 \n",
      "170 queries | Time: 11.862571001052856 | RPS: 1.1862571001052857 \n",
      "180 queries | Time: 8.901450157165527 | RPS: 0.8901450157165527 \n",
      "190 queries | Time: 9.130908012390137 | RPS: 0.9130908012390136 \n",
      "200 queries | Time: 6.890244960784912 | RPS: 0.6890244960784913 \n",
      "210 queries | Time: 8.063585996627808 | RPS: 0.8063585996627808 \n",
      "220 queries | Time: 5.841123819351196 | RPS: 0.5841123819351196 \n",
      "230 queries | Time: 9.28954005241394 | RPS: 0.928954005241394 \n",
      "240 queries | Time: 6.4930031299591064 | RPS: 0.6493003129959106 \n",
      "250 queries | Time: 7.103952884674072 | RPS: 0.7103952884674072 \n",
      "260 queries | Time: 7.062144994735718 | RPS: 0.7062144994735717 \n",
      "270 queries | Time: 6.793993949890137 | RPS: 0.6793993949890137 \n",
      "280 queries | Time: 7.310595989227295 | RPS: 0.7310595989227295 \n",
      "290 queries | Time: 8.329615831375122 | RPS: 0.8329615831375122 \n",
      "300 queries | Time: 5.965564012527466 | RPS: 0.5965564012527466 \n"
     ]
    },
    {
     "ename": "KeyboardInterrupt",
     "evalue": "",
     "output_type": "error",
     "traceback": [
      "\u001b[0;31m---------------------------------------------------------------------------\u001b[0m",
      "\u001b[0;31mKeyboardInterrupt\u001b[0m                         Traceback (most recent call last)",
      "\u001b[0;32m/var/folders/cb/kqbz377s0f5cnzwythftzhp40000gp/T/ipykernel_35981/454841435.py\u001b[0m in \u001b[0;36m<cell line: 1>\u001b[0;34m()\u001b[0m\n\u001b[0;32m----> 1\u001b[0;31m \u001b[0mquery_data\u001b[0m\u001b[0;34m(\u001b[0m\u001b[0mqueries\u001b[0m\u001b[0;34m)\u001b[0m\u001b[0;34m\u001b[0m\u001b[0;34m\u001b[0m\u001b[0m\n\u001b[0m",
      "\u001b[0;32m/var/folders/cb/kqbz377s0f5cnzwythftzhp40000gp/T/ipykernel_35981/4078954051.py\u001b[0m in \u001b[0;36mquery_data\u001b[0;34m(data)\u001b[0m\n\u001b[1;32m     12\u001b[0m     \u001b[0;32mfor\u001b[0m \u001b[0mrow\u001b[0m \u001b[0;32min\u001b[0m \u001b[0mdata\u001b[0m\u001b[0;34m:\u001b[0m\u001b[0;34m\u001b[0m\u001b[0;34m\u001b[0m\u001b[0m\n\u001b[1;32m     13\u001b[0m         \u001b[0mcount\u001b[0m \u001b[0;34m+=\u001b[0m \u001b[0;36m1\u001b[0m\u001b[0;34m\u001b[0m\u001b[0;34m\u001b[0m\u001b[0m\n\u001b[0;32m---> 14\u001b[0;31m         \u001b[0mprods\u001b[0m \u001b[0;34m=\u001b[0m \u001b[0msession\u001b[0m\u001b[0;34m.\u001b[0m\u001b[0mexecute\u001b[0m\u001b[0;34m(\u001b[0m\u001b[0mprepared_stmt_select\u001b[0m\u001b[0;34m,\u001b[0m\u001b[0;34m{\u001b[0m\u001b[0;34m\"emb\"\u001b[0m\u001b[0;34m:\u001b[0m \u001b[0;34m[\u001b[0m\u001b[0mfloat\u001b[0m\u001b[0;34m(\u001b[0m\u001b[0mx\u001b[0m\u001b[0;34m)\u001b[0m \u001b[0;32mfor\u001b[0m \u001b[0mx\u001b[0m \u001b[0;32min\u001b[0m \u001b[0mrow\u001b[0m\u001b[0;34m[\u001b[0m\u001b[0;34m'emb'\u001b[0m\u001b[0;34m]\u001b[0m\u001b[0;34m.\u001b[0m\u001b[0msplit\u001b[0m\u001b[0;34m(\u001b[0m\u001b[0;34m','\u001b[0m\u001b[0;34m)\u001b[0m\u001b[0;34m]\u001b[0m \u001b[0;34m}\u001b[0m\u001b[0;34m)\u001b[0m\u001b[0;34m\u001b[0m\u001b[0;34m\u001b[0m\u001b[0m\n\u001b[0m\u001b[1;32m     15\u001b[0m         \u001b[0;32mif\u001b[0m \u001b[0mcount\u001b[0m \u001b[0;34m%\u001b[0m \u001b[0;36m10\u001b[0m \u001b[0;34m==\u001b[0m \u001b[0;36m0\u001b[0m \u001b[0;34m:\u001b[0m\u001b[0;34m\u001b[0m\u001b[0;34m\u001b[0m\u001b[0m\n\u001b[1;32m     16\u001b[0m             \u001b[0mend\u001b[0m \u001b[0;34m=\u001b[0m \u001b[0mtime\u001b[0m\u001b[0;34m.\u001b[0m\u001b[0mtime\u001b[0m\u001b[0;34m(\u001b[0m\u001b[0;34m)\u001b[0m\u001b[0;34m\u001b[0m\u001b[0;34m\u001b[0m\u001b[0m\n",
      "\u001b[0;32m~/.pyenv/versions/3.9.4/lib/python3.9/site-packages/cassandra/cluster.cpython-39-darwin.so\u001b[0m in \u001b[0;36mcassandra.cluster.Session.execute\u001b[0;34m()\u001b[0m\n",
      "\u001b[0;32m~/.pyenv/versions/3.9.4/lib/python3.9/site-packages/cassandra/cluster.cpython-39-darwin.so\u001b[0m in \u001b[0;36mcassandra.cluster.ResponseFuture.result\u001b[0;34m()\u001b[0m\n",
      "\u001b[0;32m~/.pyenv/versions/3.9.4/lib/python3.9/threading.py\u001b[0m in \u001b[0;36mwait\u001b[0;34m(self, timeout)\u001b[0m\n\u001b[1;32m    572\u001b[0m             \u001b[0msignaled\u001b[0m \u001b[0;34m=\u001b[0m \u001b[0mself\u001b[0m\u001b[0;34m.\u001b[0m\u001b[0m_flag\u001b[0m\u001b[0;34m\u001b[0m\u001b[0;34m\u001b[0m\u001b[0m\n\u001b[1;32m    573\u001b[0m             \u001b[0;32mif\u001b[0m \u001b[0;32mnot\u001b[0m \u001b[0msignaled\u001b[0m\u001b[0;34m:\u001b[0m\u001b[0;34m\u001b[0m\u001b[0;34m\u001b[0m\u001b[0m\n\u001b[0;32m--> 574\u001b[0;31m                 \u001b[0msignaled\u001b[0m \u001b[0;34m=\u001b[0m \u001b[0mself\u001b[0m\u001b[0;34m.\u001b[0m\u001b[0m_cond\u001b[0m\u001b[0;34m.\u001b[0m\u001b[0mwait\u001b[0m\u001b[0;34m(\u001b[0m\u001b[0mtimeout\u001b[0m\u001b[0;34m)\u001b[0m\u001b[0;34m\u001b[0m\u001b[0;34m\u001b[0m\u001b[0m\n\u001b[0m\u001b[1;32m    575\u001b[0m             \u001b[0;32mreturn\u001b[0m \u001b[0msignaled\u001b[0m\u001b[0;34m\u001b[0m\u001b[0;34m\u001b[0m\u001b[0m\n\u001b[1;32m    576\u001b[0m \u001b[0;34m\u001b[0m\u001b[0m\n",
      "\u001b[0;32m~/.pyenv/versions/3.9.4/lib/python3.9/threading.py\u001b[0m in \u001b[0;36mwait\u001b[0;34m(self, timeout)\u001b[0m\n\u001b[1;32m    310\u001b[0m         \u001b[0;32mtry\u001b[0m\u001b[0;34m:\u001b[0m    \u001b[0;31m# restore state no matter what (e.g., KeyboardInterrupt)\u001b[0m\u001b[0;34m\u001b[0m\u001b[0;34m\u001b[0m\u001b[0m\n\u001b[1;32m    311\u001b[0m             \u001b[0;32mif\u001b[0m \u001b[0mtimeout\u001b[0m \u001b[0;32mis\u001b[0m \u001b[0;32mNone\u001b[0m\u001b[0;34m:\u001b[0m\u001b[0;34m\u001b[0m\u001b[0;34m\u001b[0m\u001b[0m\n\u001b[0;32m--> 312\u001b[0;31m                 \u001b[0mwaiter\u001b[0m\u001b[0;34m.\u001b[0m\u001b[0macquire\u001b[0m\u001b[0;34m(\u001b[0m\u001b[0;34m)\u001b[0m\u001b[0;34m\u001b[0m\u001b[0;34m\u001b[0m\u001b[0m\n\u001b[0m\u001b[1;32m    313\u001b[0m                 \u001b[0mgotit\u001b[0m \u001b[0;34m=\u001b[0m \u001b[0;32mTrue\u001b[0m\u001b[0;34m\u001b[0m\u001b[0;34m\u001b[0m\u001b[0m\n\u001b[1;32m    314\u001b[0m             \u001b[0;32melse\u001b[0m\u001b[0;34m:\u001b[0m\u001b[0;34m\u001b[0m\u001b[0;34m\u001b[0m\u001b[0m\n",
      "\u001b[0;31mKeyboardInterrupt\u001b[0m: "
     ]
    }
   ],
   "source": [
    "# Limit 10, No source_model, COSINE\n",
    "query_data(queries)"
   ]
  },
  {
   "cell_type": "code",
   "execution_count": 114,
   "id": "ea9a2624",
   "metadata": {},
   "outputs": [
    {
     "name": "stdout",
     "output_type": "stream",
     "text": [
      "CPU times: user 1e+03 ns, sys: 0 ns, total: 1e+03 ns\n",
      "Wall time: 1.91 µs\n",
      "Time: 1.9042670726776123\n"
     ]
    },
    {
     "data": {
      "text/html": [
       "<div>\n",
       "<style scoped>\n",
       "    .dataframe tbody tr th:only-of-type {\n",
       "        vertical-align: middle;\n",
       "    }\n",
       "\n",
       "    .dataframe tbody tr th {\n",
       "        vertical-align: top;\n",
       "    }\n",
       "\n",
       "    .dataframe thead th {\n",
       "        text-align: right;\n",
       "    }\n",
       "</style>\n",
       "<table border=\"1\" class=\"dataframe\">\n",
       "  <thead>\n",
       "    <tr style=\"text-align: right;\">\n",
       "      <th></th>\n",
       "      <th>id</th>\n",
       "    </tr>\n",
       "  </thead>\n",
       "  <tbody>\n",
       "    <tr>\n",
       "      <th>0</th>\n",
       "      <td>B072WCKPSH</td>\n",
       "    </tr>\n",
       "    <tr>\n",
       "      <th>1</th>\n",
       "      <td>B06WGPCNG4</td>\n",
       "    </tr>\n",
       "    <tr>\n",
       "      <th>2</th>\n",
       "      <td>B0BF8WS1CY</td>\n",
       "    </tr>\n",
       "    <tr>\n",
       "      <th>3</th>\n",
       "      <td>B0C1Z8F1L9</td>\n",
       "    </tr>\n",
       "    <tr>\n",
       "      <th>4</th>\n",
       "      <td>B0BG51NTTB</td>\n",
       "    </tr>\n",
       "    <tr>\n",
       "      <th>...</th>\n",
       "      <td>...</td>\n",
       "    </tr>\n",
       "    <tr>\n",
       "      <th>995</th>\n",
       "      <td>B07CQBLG7K</td>\n",
       "    </tr>\n",
       "    <tr>\n",
       "      <th>996</th>\n",
       "      <td>B0BRPY6KCY</td>\n",
       "    </tr>\n",
       "    <tr>\n",
       "      <th>997</th>\n",
       "      <td>B0BRPZ1DN4</td>\n",
       "    </tr>\n",
       "    <tr>\n",
       "      <th>998</th>\n",
       "      <td>B09W43SM25</td>\n",
       "    </tr>\n",
       "    <tr>\n",
       "      <th>999</th>\n",
       "      <td>B0BDYGJYHC</td>\n",
       "    </tr>\n",
       "  </tbody>\n",
       "</table>\n",
       "<p>1000 rows × 1 columns</p>\n",
       "</div>"
      ],
      "text/plain": [
       "             id\n",
       "0    B072WCKPSH\n",
       "1    B06WGPCNG4\n",
       "2    B0BF8WS1CY\n",
       "3    B0C1Z8F1L9\n",
       "4    B0BG51NTTB\n",
       "..          ...\n",
       "995  B07CQBLG7K\n",
       "996  B0BRPY6KCY\n",
       "997  B0BRPZ1DN4\n",
       "998  B09W43SM25\n",
       "999  B0BDYGJYHC\n",
       "\n",
       "[1000 rows x 1 columns]"
      ]
     },
     "execution_count": 114,
     "metadata": {},
     "output_type": "execute_result"
    }
   ],
   "source": [
    "%time\n",
    "cmd_select = f\"\"\"\n",
    "        SELECT id FROM default_keyspace.product_catalog_emb\n",
    "        ORDER BY emb ANN OF :emb LIMIT 1000\n",
    "\"\"\"\n",
    "start = time.time()\n",
    "prepared_stmt_select = session.prepare(cmd_select)\n",
    "prods = session.execute(prepared_stmt_select,{\"emb\": [float(x) for x in queries[2]['emb'].split(',')] })\n",
    "end = time.time()\n",
    "print(f\"\"\"Time: {end - start}\"\"\")\n",
    "df = pd.DataFrame(prods)\n",
    "df"
   ]
  },
  {
   "cell_type": "code",
   "execution_count": null,
   "id": "66290b2b",
   "metadata": {},
   "outputs": [],
   "source": []
  }
 ],
 "metadata": {
  "kernelspec": {
   "display_name": "Python 3 (ipykernel)",
   "language": "python",
   "name": "python3"
  },
  "language_info": {
   "codemirror_mode": {
    "name": "ipython",
    "version": 3
   },
   "file_extension": ".py",
   "mimetype": "text/x-python",
   "name": "python",
   "nbconvert_exporter": "python",
   "pygments_lexer": "ipython3",
   "version": "3.9.4"
  }
 },
 "nbformat": 4,
 "nbformat_minor": 5
}
